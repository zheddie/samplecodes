{
 "cells": [
  {
   "cell_type": "code",
   "execution_count": null,
   "metadata": {},
   "outputs": [],
   "source": []
  },
  {
   "cell_type": "code",
   "execution_count": null,
   "metadata": {},
   "outputs": [],
   "source": []
  },
  {
   "cell_type": "code",
   "execution_count": 118,
   "metadata": {},
   "outputs": [
    {
     "name": "stderr",
     "output_type": "stream",
     "text": [
      "/usr/local/lib/python3.6/site-packages/ipykernel_launcher.py:8: DeprecationWarning: This function is deprecated. Please call randint(0, 1 + 1) instead\n",
      "  \n"
     ]
    }
   ],
   "source": [
    "%matplotlib inline\n",
    "import matplotlib.pyplot as plt\n",
    "import numpy as np\n",
    "import sys\n",
    "n_person = 2000\n",
    "n_times  = 500\n",
    "t = np.arange(n_times)\n",
    "steps = 2* np.random.random_integers(0,1,(n_person,n_times)) -1\n",
    "#steps = 2* sys.randint(0,1,(n_person,n_times)) -1\n",
    "\n"
   ]
  },
  {
   "cell_type": "code",
   "execution_count": 62,
   "metadata": {},
   "outputs": [
    {
     "name": "stdout",
     "output_type": "stream",
     "text": [
      "(10100,) (9900,)\n"
     ]
    }
   ],
   "source": [
    "steps[3]\n",
    "# y= np.sum(steps,axis=1)\n",
    "# y\n",
    "y1 = steps[steps == 1]\n",
    "yn1 = steps[steps==-1]\n",
    "print(yn1.shape,y1.shape)\n"
   ]
  },
  {
   "cell_type": "code",
   "execution_count": 119,
   "metadata": {},
   "outputs": [
    {
     "data": {
      "text/plain": [
       "array([  1.   ,   2.014,   3.012,   4.066,   5.116,   5.998,   7.06 ,\n",
       "         8.212,   9.252,  10.438,  11.956,  12.886,  13.804,  14.606,\n",
       "        15.668,  16.738,  17.576,  18.608,  19.656,  20.396,  21.368,\n",
       "        22.242,  23.144,  24.04 ,  25.216,  26.504,  27.272,  28.032,\n",
       "        29.056,  30.22 ,  31.668,  32.768,  34.4  ,  34.932,  35.848,\n",
       "        36.632,  38.116,  38.84 ,  39.76 ,  40.392,  41.38 ,  42.516,\n",
       "        43.712,  45.182,  45.512,  46.952,  48.464,  49.88 ,  50.44 ,\n",
       "        51.314,  52.184,  53.25 ,  54.144,  55.462,  56.624,  57.352,\n",
       "        58.412,  59.194,  60.112,  61.308,  62.504,  62.922,  63.968,\n",
       "        64.2  ,  65.228,  65.71 ,  66.904,  67.902,  68.832,  69.46 ,\n",
       "        70.736,  72.192,  72.492,  73.636,  74.496,  74.958,  75.42 ,\n",
       "        75.95 ,  76.94 ,  77.96 ,  78.9  ,  80.474,  82.484,  83.324,\n",
       "        83.84 ,  84.508,  85.916,  86.986,  87.8  ,  88.782,  90.204,\n",
       "        92.434,  93.348,  94.858,  95.412,  96.568,  97.208,  97.434,\n",
       "        98.608,  98.748,  99.632, 101.222, 102.88 , 104.204, 104.536,\n",
       "       105.314, 106.676, 107.638, 109.02 , 110.478, 111.232, 112.398,\n",
       "       113.94 , 115.042, 116.312, 117.45 , 118.392, 119.484, 120.544,\n",
       "       122.212, 123.328, 124.806, 125.836, 126.166, 127.552, 129.598,\n",
       "       129.596, 129.686, 131.424, 132.07 , 132.856, 134.27 , 135.44 ,\n",
       "       136.16 , 137.14 , 139.302, 140.696, 141.906, 142.864, 143.9  ,\n",
       "       145.112, 146.462, 147.532, 148.814, 150.264, 151.318, 153.3  ,\n",
       "       155.416, 156.904, 157.742, 157.92 , 158.456, 159.26 , 160.496,\n",
       "       161.38 , 162.328, 164.18 , 165.936, 166.236, 167.71 , 168.724,\n",
       "       169.896, 171.544, 171.764, 172.42 , 173.308, 174.132, 173.992,\n",
       "       175.32 , 177.208, 177.92 , 179.338, 179.576, 180.022, 181.62 ,\n",
       "       183.458, 184.54 , 186.178, 187.568, 188.132, 190.368, 192.08 ,\n",
       "       192.956, 196.066, 196.7  , 197.396, 198.568, 200.096, 201.032,\n",
       "       203.034, 204.164, 206.308, 205.912, 207.358, 208.664, 210.02 ,\n",
       "       210.708, 212.608, 213.444, 214.97 , 216.696, 217.926, 218.068,\n",
       "       220.138, 219.216, 220.106, 220.752, 222.292, 224.436, 225.208,\n",
       "       225.984, 226.688, 227.204, 228.9  , 230.076, 231.458, 231.3  ,\n",
       "       232.402, 233.388, 234.106, 234.192, 234.876, 235.96 , 237.44 ,\n",
       "       238.18 , 238.92 , 239.684, 240.766, 242.48 , 243.276, 244.228,\n",
       "       245.558, 246.712, 247.196, 248.94 , 251.494, 252.728, 254.218,\n",
       "       255.052, 256.052, 257.056, 257.524, 257.416, 258.586, 259.184,\n",
       "       258.588, 260.372, 259.89 , 262.884, 263.146, 264.548, 265.854,\n",
       "       266.212, 266.87 , 266.852, 268.664, 269.328, 270.108, 272.476,\n",
       "       273.39 , 274.016, 275.502, 276.136, 276.086, 277.432, 276.948,\n",
       "       277.98 , 278.18 , 279.328, 280.336, 280.632, 280.458, 282.984,\n",
       "       284.604, 285.512, 285.95 , 286.536, 286.686, 287.788, 290.242,\n",
       "       290.952, 293.196, 293.372, 295.042, 295.512, 294.616, 295.316,\n",
       "       295.382, 296.74 , 299.242, 300.02 , 301.76 , 303.6  , 304.712,\n",
       "       304.904, 305.036, 307.26 , 308.23 , 309.244, 310.414, 311.708,\n",
       "       311.89 , 312.884, 313.372, 314.32 , 314.294, 314.732, 315.392,\n",
       "       317.096, 317.746, 319.1  , 321.052, 321.852, 323.326, 325.192,\n",
       "       326.262, 327.388, 328.282, 329.636, 330.172, 330.76 , 332.386,\n",
       "       332.428, 332.926, 333.416, 335.154, 336.76 , 337.394, 337.984,\n",
       "       339.184, 339.636, 341.278, 341.776, 342.682, 344.58 , 346.258,\n",
       "       347.572, 349.784, 351.588, 353.2  , 354.04 , 353.984, 354.352,\n",
       "       355.656, 357.54 , 359.706, 359.736, 361.064, 360.856, 361.522,\n",
       "       363.3  , 364.698, 366.064, 367.336, 369.164, 369.584, 369.22 ,\n",
       "       368.84 , 370.14 , 371.602, 372.984, 374.07 , 374.46 , 375.668,\n",
       "       375.808, 377.86 , 378.388, 378.846, 379.388, 378.596, 380.116,\n",
       "       381.716, 380.784, 381.476, 381.956, 382.984, 385.58 , 384.4  ,\n",
       "       385.588, 386.062, 386.82 , 385.55 , 386.116, 387.534, 388.612,\n",
       "       387.526, 388.88 , 390.95 , 393.208, 393.926, 393.944, 393.838,\n",
       "       394.128, 395.766, 396.772, 397.854, 398.044, 399.028, 399.356,\n",
       "       400.608, 400.92 , 403.376, 404.14 , 404.302, 405.792, 406.96 ,\n",
       "       408.16 , 408.588, 409.356, 408.92 , 409.028, 410.054, 409.18 ,\n",
       "       412.08 , 413.832, 415.004, 416.312, 418.676, 420.396, 420.316,\n",
       "       420.968, 421.214, 421.816, 424.282, 425.28 , 426.774, 427.444,\n",
       "       427.256, 429.688, 430.57 , 431.816, 430.63 , 430.66 , 431.954,\n",
       "       433.2  , 434.734, 435.584, 436.484, 436.924, 438.354, 439.544,\n",
       "       442.046, 443.344, 442.16 , 442.548, 443.848, 445.812, 448.39 ,\n",
       "       448.572, 448.75 , 449.796, 449.79 , 452.44 , 452.864, 453.516,\n",
       "       453.35 , 454.544, 455.892, 455.516, 457.07 , 458.284, 460.118,\n",
       "       462.888, 463.638, 464.416, 464.286, 465.612, 467.07 , 468.532,\n",
       "       470.658, 472.552, 473.498, 475.608, 478.306, 480.756, 483.31 ,\n",
       "       482.268, 483.608, 482.892, 483.274, 483.764, 485.754, 485.376,\n",
       "       485.212, 485.628, 485.97 , 485.972, 487.28 , 489.868, 490.602,\n",
       "       491.952, 492.928, 494.164, 494.52 , 495.928, 499.294, 500.852,\n",
       "       501.346, 501.972, 503.85 ])"
      ]
     },
     "execution_count": 119,
     "metadata": {},
     "output_type": "execute_result"
    }
   ],
   "source": [
    "amount  = np.cumsum(steps,axis=1)\n",
    "\n",
    "x = np.sum(amount[:,-1])\n",
    "#amount[:,-1]\n",
    "sd_amount= amount**2\n",
    "mean_sd_amount = sd_amount.mean(axis=0)\n",
    "mean_sd_amount"
   ]
  },
  {
   "cell_type": "code",
   "execution_count": 31,
   "metadata": {},
   "outputs": [
    {
     "data": {
      "text/plain": [
       "[<matplotlib.lines.Line2D at 0x105fe9ba8>,\n",
       " <matplotlib.lines.Line2D at 0x105fe9d30>]"
      ]
     },
     "execution_count": 31,
     "metadata": {},
     "output_type": "execute_result"
    },
    {
     "data": {
      "image/png": "[encoded data removed]",
      "text/plain": [
       "<Figure size 432x288 with 1 Axes>"
      ]
     },
     "metadata": {},
     "output_type": "display_data"
    }
   ],
   "source": [
    "amount  = np.cumsum(steps,axis=1)\n",
    "\n",
    "sd_amount= amount**2\n",
    "mean_sd_amount = sd_amount.mean(axis=0)\n",
    "plt.xlabel(r\"$t$\")\n",
    "plt.ylabel(r\"$\\sqrt{\\langle (\\delta x)^2 \\rangle}$\")\n",
    "plt.plot(t,np.sqrt(mean_sd_amount),'g.',t,np.sqrt(t),'r-')"
   ]
  },
  {
   "cell_type": "code",
   "execution_count": 116,
   "metadata": {},
   "outputs": [
    {
     "name": "stdout",
     "output_type": "stream",
     "text": [
      "(499540,) (500460,) [[  1   0   1 ... -34 -33 -34]\n",
      " [  1   2   3 ... -26 -25 -26]\n",
      " [ -1   0   1 ...   0  -1  -2]\n",
      " ...\n",
      " [ -1  -2  -1 ...   2   3   2]\n",
      " [ -1   0  -1 ...  18  17  18]\n",
      " [  1   0   1 ...   0  -1  -2]]\n"
     ]
    },
    {
     "name": "stderr",
     "output_type": "stream",
     "text": [
      "/usr/local/lib/python3.6/site-packages/ipykernel_launcher.py:1: DeprecationWarning: This function is deprecated. Please call randint(0, 1 + 1) instead\n",
      "  \"\"\"Entry point for launching an IPython kernel.\n"
     ]
    }
   ],
   "source": [
    "x = 2*np.random.random_integers(0,1,(2000,500))-1\n",
    "#y = np.random.randint(0,1+1)\n",
    "b = np.cumsum(x,axis=1)\n",
    "c = x[x==1]\n",
    "d = x[x==-1]\n",
    "print(c.shape,d.shape,b)\n",
    "\n"
   ]
  },
  {
   "cell_type": "code",
   "execution_count": 63,
   "metadata": {},
   "outputs": [
    {
     "name": "stdout",
     "output_type": "stream",
     "text": [
      "Object `np.cumsu` not found.\n"
     ]
    }
   ],
   "source": [
    "np.cumsu?"
   ]
  }
 ],
 "metadata": {
  "kernelspec": {
   "display_name": "Python 3",
   "language": "python",
   "name": "python3"
  },
  "language_info": {
   "codemirror_mode": {
    "name": "ipython",
    "version": 3
   },
   "file_extension": ".py",
   "mimetype": "text/x-python",
   "name": "python",
   "nbconvert_exporter": "python",
   "pygments_lexer": "ipython3",
   "version": "3.6.5"
  }
 },
 "nbformat": 4,
 "nbformat_minor": 2
}
