{
 "cells": [
  {
   "cell_type": "code",
   "execution_count": 1,
   "metadata": {},
   "outputs": [],
   "source": [
    "import numpy as np"
   ]
  },
  {
   "cell_type": "code",
   "execution_count": 2,
   "metadata": {},
   "outputs": [
    {
     "name": "stdout",
     "output_type": "stream",
     "text": [
      "mean: [3.e+00 4.e+03]\n",
      "scope: [4.e+00 6.e+03]\n",
      "norm: [[ 0.         -0.33333333]\n",
      " [-0.25       -0.16666667]\n",
      " [ 0.25        0.16666667]\n",
      " [ 0.5         0.66666667]\n",
      " [-0.5        -0.33333333]]\n"
     ]
    }
   ],
   "source": [
    "A = np.array([[3,2000],[2,3000],[4,5000],[5,8000],[1,2000]],dtype='float')\n",
    "\n",
    "mean = np.mean(A,axis=0)\n",
    "print(\"mean:\",mean)\n",
    "norm = A-mean\n",
    "scope = np.max(norm,axis=0) - np.min(norm,axis=0)\n",
    "print(\"scope:\",scope)\n",
    "norm = norm/scope\n",
    "print(\"norm:\",norm)\n",
    "\n"
   ]
  },
  {
   "cell_type": "code",
   "execution_count": 3,
   "metadata": {},
   "outputs": [],
   "source": [
    "U,S,V = np.linalg.svd(np.dot(norm.T,norm))"
   ]
  },
  {
   "cell_type": "code",
   "execution_count": 11,
   "metadata": {},
   "outputs": [
    {
     "name": "stdout",
     "output_type": "stream",
     "text": [
      "(2, 2)\n"
     ]
    }
   ],
   "source": [
    "print(U.shape)"
   ]
  },
  {
   "cell_type": "code",
   "execution_count": 12,
   "metadata": {},
   "outputs": [
    {
     "name": "stdout",
     "output_type": "stream",
     "text": [
      "[[-0.67710949 -0.73588229]\n",
      " [-0.73588229  0.67710949]]\n"
     ]
    }
   ],
   "source": [
    "print(U)"
   ]
  },
  {
   "cell_type": "code",
   "execution_count": 15,
   "metadata": {},
   "outputs": [
    {
     "name": "stdout",
     "output_type": "stream",
     "text": [
      "[[-0.67710949]\n",
      " [-0.73588229]]\n"
     ]
    }
   ],
   "source": [
    "U_r = U[:,0].reshape(2,1)\n",
    "print(U_r)"
   ]
  },
  {
   "cell_type": "code",
   "execution_count": 16,
   "metadata": {},
   "outputs": [
    {
     "data": {
      "text/plain": [
       "array([[ 0.2452941 ],\n",
       "       [ 0.29192442],\n",
       "       [-0.29192442],\n",
       "       [-0.82914294],\n",
       "       [ 0.58384884]])"
      ]
     },
     "execution_count": 16,
     "metadata": {},
     "output_type": "execute_result"
    }
   ],
   "source": [
    "R = np.dot(norm,U_r)\n",
    "R"
   ]
  },
  {
   "cell_type": "code",
   "execution_count": 17,
   "metadata": {},
   "outputs": [
    {
     "data": {
      "text/plain": [
       "array([[-0.16609096, -0.18050758],\n",
       "       [-0.19766479, -0.21482201],\n",
       "       [ 0.19766479,  0.21482201],\n",
       "       [ 0.56142055,  0.6101516 ],\n",
       "       [-0.39532959, -0.42964402]])"
      ]
     },
     "execution_count": 17,
     "metadata": {},
     "output_type": "execute_result"
    }
   ],
   "source": [
    "z = np.dot(R,U_r.T)\n",
    "z"
   ]
  },
  {
   "cell_type": "code",
   "execution_count": 18,
   "metadata": {},
   "outputs": [
    {
     "data": {
      "text/plain": [
       "array([[2.33563616e+00, 2.91695452e+03],\n",
       "       [2.20934082e+00, 2.71106794e+03],\n",
       "       [3.79065918e+00, 5.28893206e+03],\n",
       "       [5.24568220e+00, 7.66090960e+03],\n",
       "       [1.41868164e+00, 1.42213588e+03]])"
      ]
     },
     "execution_count": 18,
     "metadata": {},
     "output_type": "execute_result"
    }
   ],
   "source": [
    "S = np.multiply(z,scope)+mean\n",
    "S"
   ]
  },
  {
   "cell_type": "code",
   "execution_count": 20,
   "metadata": {},
   "outputs": [
    {
     "data": {
      "text/plain": [
       "array([[-0.2452941 ],\n",
       "       [-0.29192442],\n",
       "       [ 0.29192442],\n",
       "       [ 0.82914294],\n",
       "       [-0.58384884]])"
      ]
     },
     "execution_count": 20,
     "metadata": {},
     "output_type": "execute_result"
    }
   ],
   "source": [
    "from sklearn.decomposition import PCA\n",
    "from sklearn.pipeline import Pipeline\n",
    "from sklearn.preprocessing import MinMaxScaler\n",
    "\n",
    "def std_PCA(**argv):\n",
    "    scaler = MinMaxScaler()\n",
    "    pca = PCA(**argv)\n",
    "    pipeline = Pipeline([('scaler',scaler),('pca',pca)])\n",
    "    return pipeline\n",
    "\n",
    "pcapl = std_PCA(n_components=1)\n",
    "R2 = pcapl.fit_transform(A)\n",
    "R2\n",
    "\n"
   ]
  },
  {
   "cell_type": "code",
   "execution_count": 21,
   "metadata": {},
   "outputs": [
    {
     "data": {
      "text/plain": [
       "array([[2.33563616e+00, 2.91695452e+03],\n",
       "       [2.20934082e+00, 2.71106794e+03],\n",
       "       [3.79065918e+00, 5.28893206e+03],\n",
       "       [5.24568220e+00, 7.66090960e+03],\n",
       "       [1.41868164e+00, 1.42213588e+03]])"
      ]
     },
     "execution_count": 21,
     "metadata": {},
     "output_type": "execute_result"
    }
   ],
   "source": [
    "pcapl.inverse_transform(R2)"
   ]
  },
  {
   "cell_type": "code",
   "execution_count": 26,
   "metadata": {},
   "outputs": [
    {
     "name": "stdout",
     "output_type": "stream",
     "text": [
      "[0 0 0 0 0 0 0 0 0 0 0 0 0 0 0 0 0 0 0 0 0 0 0 0 0 0 0 0 0 0 0 0 0 0 0 0 0\n",
      " 0 0 0 0 0 0 0 0 0 0 0 0 0 1 1 1 1 1 1 1 1 1 1 1 1 1 1 1 1 1 1 1 1 1 1 1 1\n",
      " 1 1 1 1 1 1 1 1 1 1 1 1 1 1 1 1 1 1 1 1 1 1 1 1 1 1 2 2 2 2 2 2 2 2 2 2 2\n",
      " 2 2 2 2 2 2 2 2 2 2 2 2 2 2 2 2 2 2 2 2 2 2 2 2 2 2 2 2 2 2 2 2 2 2 2 2 2\n",
      " 2 2]\n",
      "(150, 4) (150,)\n",
      "[ 0  0  0  0  0  0  0  0  0  0  0  0  0  0  0  0  0  0  0  0  0  0  0  0\n",
      "  0  0  0  0  0  0  0  0  0  0  0  0  0  0  0  0  0  0  0  0  0  0  0  0\n",
      "  0  0  0  0  0  0  0  0  0  0  0  0  0  0  0  0  0  0  0  0  0  0 -1  0\n",
      "  0  0  0  0  0  0  0  0  0  0  0 -1 -1  0  0  0  0  0  0  0  0  0  0  0\n",
      "  0  0  0  0  0  0  0  0  0  0  0  0  0  0  0  0  0  0  0  0  0  0  0  0\n",
      "  0  0  0  0  0  0  0  0  0  1  0  0  0  1  0  0  0  0  0  0  0  0  0  0\n",
      "  0  0  0  0  0  0]\n"
     ]
    },
    {
     "name": "stderr",
     "output_type": "stream",
     "text": [
      "/Users/zhanggan/anaconda3/envs/mlenv2/lib/python3.6/site-packages/sklearn/svm/base.py:929: ConvergenceWarning: Liblinear failed to converge, increase the number of iterations.\n",
      "  \"the number of iterations.\", ConvergenceWarning)\n",
      "/Users/zhanggan/anaconda3/envs/mlenv2/lib/python3.6/site-packages/sklearn/svm/base.py:929: ConvergenceWarning: Liblinear failed to converge, increase the number of iterations.\n",
      "  \"the number of iterations.\", ConvergenceWarning)\n"
     ]
    }
   ],
   "source": [
    "from sklearn import datasets\n",
    "from sklearn.multiclass import OneVsRestClassifier\n",
    "from sklearn.svm import LinearSVC\n",
    "X, y = datasets.load_iris(return_X_y=True)\n",
    "print(y)\n",
    "print(X.shape,y.shape)\n",
    "y_pred=OneVsRestClassifier(LinearSVC(random_state=0)).fit(X, y).predict(X)\n",
    "print(y-y_pred)"
   ]
  },
  {
   "cell_type": "code",
   "execution_count": 33,
   "metadata": {},
   "outputs": [
    {
     "data": {
      "text/plain": [
       "array([0, 0, 1, 0, 1])"
      ]
     },
     "execution_count": 33,
     "metadata": {},
     "output_type": "execute_result"
    }
   ],
   "source": [
    "Y = np.array([[0,1],[0,1],[1,0],[0,1],[1,0]])\n",
    "y_a=np.where(Y[:,0],Y[:,0],Y[:,0])\n",
    "y_a\n"
   ]
  },
  {
   "cell_type": "code",
   "execution_count": 41,
   "metadata": {},
   "outputs": [
    {
     "data": {
      "text/plain": [
       "numpy.ndarray"
      ]
     },
     "execution_count": 41,
     "metadata": {},
     "output_type": "execute_result"
    }
   ],
   "source": [
    "x=np.linspace(-50,50)\n",
    "type(x)"
   ]
  },
  {
   "cell_type": "code",
   "execution_count": 42,
   "metadata": {},
   "outputs": [],
   "source": [
    "import matplotlib.pyplot as plt"
   ]
  },
  {
   "cell_type": "code",
   "execution_count": 51,
   "metadata": {},
   "outputs": [
    {
     "data": {
      "image/png": "[encoded data removed]",
      "text/plain": [
       "<Figure size 432x288 with 2 Axes>"
      ]
     },
     "metadata": {
      "needs_background": "light"
     },
     "output_type": "display_data"
    }
   ],
   "source": [
    "plt.subplot(2,2,1)\n",
    "plt.title(\"Firstplot\")\n",
    "plt.subplot(2,2,2)\n",
    "plt.title(\"Secondplot\")\n",
    "plt.subplot(2,2,3)\n",
    "plt.title(\"3plot\")\n",
    "plt.subplot(2,2,4)\n",
    "plt.title(\"4plot\")\n",
    "plt.show()"
   ]
  },
  {
   "cell_type": "code",
   "execution_count": 50,
   "metadata": {},
   "outputs": [
    {
     "data": {
      "text/plain": [
       "([<matplotlib.axis.XTick at 0x1a23a0fc50>,\n",
       "  <matplotlib.axis.XTick at 0x1a23a06d68>,\n",
       "  <matplotlib.axis.XTick at 0x1a23a34f60>,\n",
       "  <matplotlib.axis.XTick at 0x1a23a422e8>,\n",
       "  <matplotlib.axis.XTick at 0x1a23a42ac8>],\n",
       " <a list of 5 Text xticklabel objects>)"
      ]
     },
     "execution_count": 50,
     "metadata": {},
     "output_type": "execute_result"
    },
    {
     "data": {
      "image/png": "[encoded data removed]",
      "text/plain": [
       "<Figure size 432x288 with 1 Axes>"
      ]
     },
     "metadata": {
      "needs_background": "light"
     },
     "output_type": "display_data"
    }
   ],
   "source": [
    "# return locs, labels where locs is an array of tick locations and\n",
    "# labels is an array of tick labels.\n",
    "locs, labels = plt.xticks()\n",
    "#print(locs,labels)\n",
    "# set the locations of the xticks\n",
    "#plt.xticks( np.arange(6) )\n",
    "\n",
    "# # set the locations and labels of the xticks\n",
    "plt.xticks( np.arange(5), ('Tom', 'Dick', 'Harry', 'Sally', 'Sue') )"
   ]
  }
 ],
 "metadata": {
  "kernelspec": {
   "display_name": "Python 3",
   "language": "python",
   "name": "python3"
  },
  "language_info": {
   "codemirror_mode": {
    "name": "ipython",
    "version": 3
   },
   "file_extension": ".py",
   "mimetype": "text/x-python",
   "name": "python",
   "nbconvert_exporter": "python",
   "pygments_lexer": "ipython3",
   "version": "3.6.8"
  }
 },
 "nbformat": 4,
 "nbformat_minor": 2
}
