{
 "cells": [
  {
   "cell_type": "code",
   "execution_count": 1,
   "metadata": {
    "scrolled": true
   },
   "outputs": [
    {
     "name": "stdout",
     "output_type": "stream",
     "text": [
      "predict of 7.5 is: [18.10787879]\n"
     ]
    },
    {
     "name": "stderr",
     "output_type": "stream",
     "text": [
      "/usr/local/lib/python3.6/site-packages/scipy/linalg/basic.py:1226: RuntimeWarning: internal gelsd driver lwork query error, required iwork dimension not returned. This is likely the result of LAPACK bug 0038, fixed in LAPACK 3.2.2 (released July 21, 2010). Falling back to 'gelss' driver.\n",
      "  warnings.warn(mesg, RuntimeWarning)\n"
     ]
    }
   ],
   "source": [
    "#!/usr/bin/env python3\n",
    "################################\n",
    "# import pandas and scikit learn\n",
    "################################\n",
    "#import pandas as pd\n",
    "import numpy as np\n",
    "from sklearn import linear_model\n",
    "\n",
    "################################\n",
    "# load dataset\n",
    "################################\n",
    "sqfeet = np.array([1, 2, 3, 4, 5, 6, 7, 8, 9, 10]).reshape(-1,1)\n",
    "price = np.array([11.9, 12.6, 13.3, 15, 16, 16.3, 16.9, 18.2, 20.1, 20.9])\n",
    "\n",
    "################################\n",
    "# train the model\n",
    "################################\n",
    "model = linear_model.LinearRegression()\n",
    "model.fit(sqfeet, price)\n",
    "\n",
    "################################\n",
    "# make prediction\n",
    "################################\n",
    "prd = model.predict( np.array([7.5]).reshape(-1,1))\n",
    "print(\"predict of 7.5 is:\",prd)"
   ]
  },
  {
   "cell_type": "code",
   "execution_count": 2,
   "metadata": {},
   "outputs": [
    {
     "name": "stdout",
     "output_type": "stream",
     "text": [
      "[1]\n"
     ]
    }
   ],
   "source": [
    "from sklearn import tree\n",
    "# 1. collect tranining data\n",
    "# input: [weight, 1-> smooth | 0 -> bumpy]\n",
    "features = [[140, 1], [130, 1], [150, 0], [170, 0]]\n",
    "# output: apple -> 0 | orange -> 1\n",
    "labels = [0, 0, 1, 1]\n",
    "# 2. train claasifier\n",
    "clf = tree.DecisionTreeClassifier()\n",
    "clf = clf.fit(features, labels)\n",
    "# 3. make predict\n",
    "# 150kg, bumpy\n",
    "print (clf.predict([[150, 0]]))"
   ]
  }
 ],
 "metadata": {
  "kernelspec": {
   "display_name": "Python 3",
   "language": "python",
   "name": "python3"
  },
  "language_info": {
   "codemirror_mode": {
    "name": "ipython",
    "version": 3
   },
   "file_extension": ".py",
   "mimetype": "text/x-python",
   "name": "python",
   "nbconvert_exporter": "python",
   "pygments_lexer": "ipython3",
   "version": "3.6.5"
  }
 },
 "nbformat": 4,
 "nbformat_minor": 2
}
