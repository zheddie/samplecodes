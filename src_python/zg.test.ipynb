{
 "cells": [
  {
   "cell_type": "code",
   "execution_count": 9,
   "metadata": {},
   "outputs": [
    {
     "name": "stdout",
     "output_type": "stream",
     "text": [
      "[2]\n",
      "[2, 3]\n",
      "[2, 3, 4]\n"
     ]
    },
    {
     "ename": "TypeError",
     "evalue": "can only concatenate list (not \"int\") to list",
     "output_type": "error",
     "traceback": [
      "\u001b[0;31m---------------------------------------------------------------------------\u001b[0m",
      "\u001b[0;31mTypeError\u001b[0m                                 Traceback (most recent call last)",
      "\u001b[0;32m<ipython-input-9-018810625a42>\u001b[0m in \u001b[0;36m<module>\u001b[0;34m()\u001b[0m\n\u001b[1;32m      7\u001b[0m \u001b[0;34m\u001b[0m\u001b[0m\n\u001b[1;32m      8\u001b[0m \u001b[0mprint\u001b[0m\u001b[0;34m(\u001b[0m\u001b[0mlt\u001b[0m\u001b[0;34m)\u001b[0m\u001b[0;34m\u001b[0m\u001b[0m\n\u001b[0;32m----> 9\u001b[0;31m \u001b[0mls\u001b[0m \u001b[0;34m=\u001b[0m \u001b[0mlt\u001b[0m\u001b[0;34m+\u001b[0m\u001b[0;36m5\u001b[0m\u001b[0;34m\u001b[0m\u001b[0m\n\u001b[0m\u001b[1;32m     10\u001b[0m \u001b[0mprint\u001b[0m\u001b[0;34m(\u001b[0m\u001b[0mls\u001b[0m\u001b[0;34m)\u001b[0m\u001b[0;34m\u001b[0m\u001b[0m\n",
      "\u001b[0;31mTypeError\u001b[0m: can only concatenate list (not \"int\") to list"
     ]
    }
   ],
   "source": [
    "lt = []\n",
    "lt.append(2)\n",
    "print(lt)\n",
    "lt.append(3)\n",
    "print(lt)\n",
    "lt += [4]\n",
    "\n",
    "print(lt)\n",
    "ls = lt+5\n",
    "print(ls)"
   ]
  },
  {
   "cell_type": "code",
   "execution_count": 2,
   "metadata": {
    "scrolled": true
   },
   "outputs": [
    {
     "name": "stdout",
     "output_type": "stream",
     "text": [
      "tensor([[[[[0., 0., 0., 0.]],\n",
      "\n",
      "          [[0., 0., 0., 0.]],\n",
      "\n",
      "          [[0., 0., 0., 0.]]]],\n",
      "\n",
      "\n",
      "\n",
      "        [[[[0., 0., 0., 0.]],\n",
      "\n",
      "          [[0., 0., 0., 0.]],\n",
      "\n",
      "          [[0., 0., 0., 0.]]]]])\n",
      "torch.Size([2, 1, 3, 1, 4])\n"
     ]
    }
   ],
   "source": [
    "import torch\n",
    "x = torch.zeros(2,1,3,1,4)\n",
    "print(x)\n",
    "print(x.size())"
   ]
  },
  {
   "cell_type": "code",
   "execution_count": 5,
   "metadata": {
    "scrolled": false
   },
   "outputs": [
    {
     "name": "stdout",
     "output_type": "stream",
     "text": [
      "tensor([[[[0., 0., 0., 0.]],\n",
      "\n",
      "         [[0., 0., 0., 0.]],\n",
      "\n",
      "         [[0., 0., 0., 0.]]],\n",
      "\n",
      "\n",
      "        [[[0., 0., 0., 0.]],\n",
      "\n",
      "         [[0., 0., 0., 0.]],\n",
      "\n",
      "         [[0., 0., 0., 0.]]]]) torch.Size([2, 3, 1, 4])\n"
     ]
    }
   ],
   "source": [
    "y = torch.squeeze(x,1)\n",
    "print(y,y.size())"
   ]
  },
  {
   "cell_type": "code",
   "execution_count": 12,
   "metadata": {
    "scrolled": true
   },
   "outputs": [
    {
     "name": "stdout",
     "output_type": "stream",
     "text": [
      "tensor([6., 7., 8.]) tensor([ 1.,  4.,  7., 10., 13.])\n"
     ]
    }
   ],
   "source": [
    "a = torch.arange(15).view(5,3).float()\n",
    "#print(a,a.size()[1])\n",
    "x = torch.mean(a,dim=0)\n",
    "y = torch.mean(a,dim=1)\n",
    "print(x,y)"
   ]
  },
  {
   "cell_type": "code",
   "execution_count": 13,
   "metadata": {
    "scrolled": true
   },
   "outputs": [
    {
     "name": "stdout",
     "output_type": "stream",
     "text": [
      "tensor([ 0.,  1.,  2.,  3.,  4.,  5.,  6.,  7.,  8.,  9., 10., 11., 12., 13.,\n",
      "        14.])\n"
     ]
    }
   ],
   "source": [
    "b = a.reshape((-1,))\n",
    "print(b)"
   ]
  },
  {
   "cell_type": "code",
   "execution_count": 4,
   "metadata": {
    "scrolled": false
   },
   "outputs": [
    {
     "name": "stdout",
     "output_type": "stream",
     "text": [
      "14592\n",
      "276480\n"
     ]
    }
   ],
   "source": [
    "xx = 7*7*64+3*3*64+3*3*128+3*3*512+512*10\n",
    "print(xx)\n",
    "yy = 96*96*3*10\n",
    "print(yy)"
   ]
  },
  {
   "cell_type": "code",
   "execution_count": 9,
   "metadata": {},
   "outputs": [
    {
     "name": "stdout",
     "output_type": "stream",
     "text": [
      "torch.Size([4]) tensor([1, 2, 3, 4])\n"
     ]
    }
   ],
   "source": [
    "import torch\n",
    "x = torch.tensor([1,2,3,4])\n",
    "print(x.size(),x)"
   ]
  },
  {
   "cell_type": "code",
   "execution_count": 7,
   "metadata": {},
   "outputs": [
    {
     "name": "stdout",
     "output_type": "stream",
     "text": [
      "torch.Size([1, 4]) tensor([[1, 2, 3, 4]])\n"
     ]
    }
   ],
   "source": [
    "x = x.unsqueeze(0)\n",
    "print(x.size(),x)\n"
   ]
  },
  {
   "cell_type": "code",
   "execution_count": 10,
   "metadata": {
    "scrolled": true
   },
   "outputs": [
    {
     "name": "stdout",
     "output_type": "stream",
     "text": [
      "torch.Size([4, 1]) tensor([[1],\n",
      "        [2],\n",
      "        [3],\n",
      "        [4]])\n"
     ]
    }
   ],
   "source": [
    "x = x.unsqueeze(1)\n",
    "print(x.size(),x)"
   ]
  },
  {
   "cell_type": "code",
   "execution_count": 11,
   "metadata": {
    "scrolled": true
   },
   "outputs": [
    {
     "name": "stdout",
     "output_type": "stream",
     "text": [
      "torch.Size([4, 1, 1]) tensor([[[1]],\n",
      "\n",
      "        [[2]],\n",
      "\n",
      "        [[3]],\n",
      "\n",
      "        [[4]]])\n"
     ]
    }
   ],
   "source": [
    "x = x.unsqueeze(1)\n",
    "print(x.size(),x)"
   ]
  },
  {
   "cell_type": "code",
   "execution_count": 1,
   "metadata": {},
   "outputs": [
    {
     "name": "stdout",
     "output_type": "stream",
     "text": [
      "tensor([-0.4274, -0.8713,  0.0957]) torch.Size([3])\n"
     ]
    }
   ],
   "source": [
    "import torch\n",
    "x=torch.randn(3)\n",
    "print(x,x.size())"
   ]
  },
  {
   "cell_type": "code",
   "execution_count": 2,
   "metadata": {
    "scrolled": true
   },
   "outputs": [
    {
     "name": "stdout",
     "output_type": "stream",
     "text": [
      "tensor([1.7851, 1.4428, 0.6122]) torch.Size([3])\n"
     ]
    }
   ],
   "source": [
    "y=torch.randn((3))\n",
    "print(y,y.size())"
   ]
  },
  {
   "cell_type": "code",
   "execution_count": 4,
   "metadata": {
    "scrolled": false
   },
   "outputs": [
    {
     "name": "stdout",
     "output_type": "stream",
     "text": [
      "tensor([-0.4274, -0.8713,  0.0957], requires_grad=True) torch.Size([3])\n"
     ]
    }
   ],
   "source": [
    "from torch.autograd import Variable\n",
    "x=Variable(x,requires_grad=True)\n",
    "print(x,x.size())"
   ]
  },
  {
   "cell_type": "code",
   "execution_count": 5,
   "metadata": {},
   "outputs": [
    {
     "name": "stdout",
     "output_type": "stream",
     "text": [
      "tensor([-0.8548, -1.7425,  0.1914], grad_fn=<MulBackward>) <built-in method size of Tensor object at 0x114d51ee8>\n"
     ]
    }
   ],
   "source": [
    "z=x*2\n",
    "print(z,z.size)"
   ]
  },
  {
   "cell_type": "code",
   "execution_count": 6,
   "metadata": {},
   "outputs": [
    {
     "name": "stdout",
     "output_type": "stream",
     "text": [
      "tensor([-0.4274, -0.8713,  0.0957]) tensor([-0.8548, -1.7425,  0.1914])\n",
      "tensor([2.0000, 0.2000, 0.0200]) None\n"
     ]
    }
   ],
   "source": [
    "z.backward(torch.FloatTensor([1,0.1,0.01]))\n",
    "print(x.data,z.data)\n",
    "print(x.grad,z.grad)"
   ]
  }
 ],
 "metadata": {
  "kernelspec": {
   "display_name": "Python 3",
   "language": "python",
   "name": "python3"
  },
  "language_info": {
   "codemirror_mode": {
    "name": "ipython",
    "version": 3
   },
   "file_extension": ".py",
   "mimetype": "text/x-python",
   "name": "python",
   "nbconvert_exporter": "python",
   "pygments_lexer": "ipython3",
   "version": "3.7.0"
  }
 },
 "nbformat": 4,
 "nbformat_minor": 2
}
