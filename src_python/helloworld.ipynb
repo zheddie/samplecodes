{
 "cells": [
  {
   "cell_type": "code",
   "execution_count": 2,
   "metadata": {},
   "outputs": [],
   "source": [
    "#!/usr/bin/env python3\n",
    "################################\n",
    "# import pandas and scikit learn\n",
    "################################\n",
    "#import pandas as pd\n",
    "import numpy as np\n",
    "from sklearn import linear_model\n",
    "\n"
   ]
  },
  {
   "cell_type": "code",
   "execution_count": 1,
   "metadata": {},
   "outputs": [
    {
     "name": "stdout",
     "output_type": "stream",
     "text": [
      "zg.pty.py.fork().cp01\n",
      "zg.pty.py.fork().cp10,inCHILD,pid=0,fd=-1\n",
      "zg.pty.py.fork().cp11,pid=0,fd=-1\n",
      "zg.ptyprocess.py._setwinsize().fd=0,rows=24,cols=80\n",
      "zg.pty.py.fork().cp0\n",
      "zg.pty.py.fork().cp01\n",
      "zg.pty.py.fork().cp11,pid=2303,fd=55\n",
      "zg.ptyprocess.py._setwinsize().fd=55,rows=24,cols=80\n",
      "Empolyee.py       mpl.py                         skl01.py\n",
      "Untitled.ipynb    mplfig.png                     skl02.py\n",
      "a.c               mplfig.py                      skl03.py\n",
      "asc               nltkdownload.py                skl04.py\n",
      "commonuse.py      nti                            skl05.py\n",
      "cython            nti2                           skl06.py\n",
      "db                numpy                          skl07.py\n",
      "dbtoxlsx.py       p.txt                          skl08.py\n",
      "dir.py            pandas                         skl09.py\n",
      "file_cache.py     pasegenpatch.py                skl10.py\n",
      "filetest.py       patchfiles.py                  skl_p1.py\n",
      "findemptydir.py   pdc.py                         skltd01.py\n",
      "fromdb.xlsx       pick01.py                      sushu.py\n",
      "generatepatch.py  pick02.py                      svcclassify.pkl\n",
      "genpatch.py       pkgs                           tcltk.py\n",
      "gift              pkgs2                          tensorflow\n",
      "global.py         pkgs3                          test.py\n",
      "gui               pkgs4                          testmatch.py\n",
      "hello.png         pkgstest.py                    tftest.py\n",
      "hello.py          plot.py                        tftest2.py\n",
      "helloworld.ipynb  plot_digits_classification.py  tftest3.pl\n",
      "helloworld.py     ptyprocess                     tftest4.py\n",
      "ibm_db            python3                        tkhello.py\n",
      "ibmdb             pytorch                        tpot_exported_pipeline.py\n",
      "image             range.py                       tpottest.py\n",
      "irispredict.py    reading.py                     tpottest2.py\n",
      "jupyterdemo       readingv1.py                   tuple.py\n",
      "kNN.py            readingv2.py                   urlread.py\n",
      "kNNmain.py        runsql.py                      wordnet.pain.py\n",
      "kaixin            scikitlearn                    wordset.py\n",
      "ml.cdl            shushi.py                      zgtext\n",
      "mlhello.py        skhello.py                     zs.py\n",
      "mloni             skl.py                         zs2.py\n"
     ]
    }
   ],
   "source": [
    "!ls"
   ]
  },
  {
   "cell_type": "code",
   "execution_count": 4,
   "metadata": {},
   "outputs": [
    {
     "name": "stdout",
     "output_type": "stream",
     "text": [
      "(10,) [ 1  2  3  4  5  6  7  8  9 10]\n",
      "(10, 1) [[ 1]\n",
      " [ 2]\n",
      " [ 3]\n",
      " [ 4]\n",
      " [ 5]\n",
      " [ 6]\n",
      " [ 7]\n",
      " [ 8]\n",
      " [ 9]\n",
      " [10]]\n"
     ]
    }
   ],
   "source": [
    "s =  np.array([1, 2, 3, 4, 5, 6, 7, 8, 9, 10])\n",
    "print(s.shape,s)\n",
    "sqfeet = s.reshape(-1,1)\n",
    "print(sqfeet.shape,sqfeet)"
   ]
  },
  {
   "cell_type": "code",
   "execution_count": 5,
   "metadata": {},
   "outputs": [
    {
     "data": {
      "text/plain": [
       "LinearRegression(copy_X=True, fit_intercept=True, n_jobs=1, normalize=False)"
      ]
     },
     "execution_count": 5,
     "metadata": {},
     "output_type": "execute_result"
    }
   ],
   "source": [
    "################################\n",
    "# load dataset\n",
    "################################\n",
    "sqfeet = np.array([1, 2, 3, 4, 5, 6, 7, 8, 9, 10]).reshape(-1,1)\n",
    "price = np.array([11.9, 12.6, 13.3, 15, 16, 16.3, 16.9, 18.2, 20.1, 20.9])\n",
    "\n",
    "################################\n",
    "# train the model\n",
    "################################\n",
    "model = linear_model.LinearRegression()\n",
    "model.fit(sqfeet, price)\n",
    "\n"
   ]
  },
  {
   "cell_type": "code",
   "execution_count": 15,
   "metadata": {
    "scrolled": true
   },
   "outputs": [
    {
     "name": "stdout",
     "output_type": "stream",
     "text": [
      "predict of 7.5 is: [18.10787879]\n"
     ]
    }
   ],
   "source": [
    "\n",
    "\n",
    "################################\n",
    "# make prediction\n",
    "################################\n",
    "prd = model.predict( np.array([7.5]).reshape(-1,1))\n",
    "print(\"predict of 7.5 is:\",prd)\n",
    "\n"
   ]
  }
 ],
 "metadata": {
  "kernelspec": {
   "display_name": "Python 3",
   "language": "python",
   "name": "python3"
  },
  "language_info": {
   "codemirror_mode": {
    "name": "ipython",
    "version": 3
   },
   "file_extension": ".py",
   "mimetype": "text/x-python",
   "name": "python",
   "nbconvert_exporter": "python",
   "pygments_lexer": "ipython3",
   "version": "3.6.9"
  }
 },
 "nbformat": 4,
 "nbformat_minor": 2
}
