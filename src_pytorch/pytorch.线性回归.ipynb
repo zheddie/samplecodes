{
 "cells": [
  {
   "cell_type": "markdown",
   "id": "322db109-771a-4f97-a4ee-287560aa028a",
   "metadata": {},
   "source": [
    "## 使用pytorch提供的函数实现线性回归\n",
    "- d2l.synthetic_data() 产生数据样本\n",
    "- torch.utils.data.DataLoader（）产生数据装载器\n",
    "- nn.Linear（）实现线性回归函数的定义\n",
    "- nn.MSELoss（）实现损失函数的定义\n",
    "- nn.optim.SGD（）实现参数修正过程。\n",
    "-- optSGD.zero_grad() 清空现有梯度值\n",
    "-- optSGD.step()  根据剃度和学习率，修正参数"
   ]
  },
  {
   "cell_type": "code",
   "execution_count": 21,
   "id": "73e13cc6-900d-44cf-a8bb-5c5fb0b077cd",
   "metadata": {},
   "outputs": [],
   "source": [
    "import numpy as np\n",
    "import torch\n",
    "from torch.utils import data\n",
    "from d2l import torch as d2l\n",
    "\n",
    "true_w = torch.tensor([2,-3.4])\n",
    "true_b = 4.2\n",
    "\n",
    "features ,labels = d2l.synthetic_data(true_w,true_b,1000)"
   ]
  },
  {
   "cell_type": "code",
   "execution_count": 25,
   "id": "8bffb0d0-3b62-4285-b5d8-e2effdc12be8",
   "metadata": {},
   "outputs": [
    {
     "name": "stdout",
     "output_type": "stream",
     "text": [
      "torch.Size([1000, 2]) torch.Size([1000, 1])\n"
     ]
    }
   ],
   "source": [
    "print(features.shape,labels.shape)"
   ]
  },
  {
   "cell_type": "markdown",
   "id": "44e22a0e-a6ce-497a-a171-b770fd66e059",
   "metadata": {},
   "source": [
    "## python 单星和双星的参数调用\n",
    "- *data_arrays 的传参方式 参见：https://blog.csdn.net/u010376788/article/details/49933511 主要处理变长参数，并将所有变长参数看作是一个tuple。如果使用双星，则会被认为是一个dictionary。\n",
    "- 通过data.TensorDataset和data.DataLoader将自己产生的数据样本做成一个DataLoader"
   ]
  },
  {
   "cell_type": "code",
   "execution_count": 14,
   "id": "724ef18d-076c-4e43-82a1-edd8eb0ad02b",
   "metadata": {},
   "outputs": [],
   "source": [
    "def load_array(data_arrays, batch_size, is_train=True):\n",
    "    dataset = data.TensorDataset(*data_arrays)\n",
    "    return data.DataLoader(dataset,batch_size,shuffle = is_train)\n",
    "batch_size = 10\n",
    "data_iter = load_array((features,labels),batch_size)\n",
    "\n"
   ]
  },
  {
   "cell_type": "markdown",
   "id": "3e0ba0a7-7c4d-48df-b16c-6aebaeb65a14",
   "metadata": {},
   "source": [
    "#### 模拟for...in... 的方式显示产生一个iterator并用next获得下一个iter的数据，用于展示"
   ]
  },
  {
   "cell_type": "code",
   "execution_count": 7,
   "id": "cc16b0b3-0a26-4aab-8460-bb322733df6d",
   "metadata": {},
   "outputs": [
    {
     "data": {
      "text/plain": [
       "[tensor([[ 0.4619,  1.1529],\n",
       "         [-0.0750, -1.1533],\n",
       "         [-0.4128, -0.1222],\n",
       "         [ 0.3012,  1.8607],\n",
       "         [-1.1543,  0.4470],\n",
       "         [-1.9253,  0.1095],\n",
       "         [-0.1921, -0.3885],\n",
       "         [-1.4642,  0.6050],\n",
       "         [ 0.8341,  0.3179],\n",
       "         [-1.6438, -0.2845]]),\n",
       " tensor([[ 1.2009e+00],\n",
       "         [ 7.9574e+00],\n",
       "         [ 3.7881e+00],\n",
       "         [-1.5187e+00],\n",
       "         [ 3.6896e-01],\n",
       "         [ 4.5620e-03],\n",
       "         [ 5.1277e+00],\n",
       "         [-7.8994e-01],\n",
       "         [ 4.7846e+00],\n",
       "         [ 1.8871e+00]])]"
      ]
     },
     "execution_count": 7,
     "metadata": {},
     "output_type": "execute_result"
    }
   ],
   "source": [
    "next(iter(data_iter))"
   ]
  },
  {
   "cell_type": "code",
   "execution_count": 15,
   "id": "aa45f6dc-d2d5-416b-9906-c0cf21dcb4d9",
   "metadata": {},
   "outputs": [],
   "source": [
    "from torch import nn\n",
    "net = nn.Sequential(nn.Linear(2,1))"
   ]
  },
  {
   "cell_type": "markdown",
   "id": "b24a7c2e-b2c2-47c5-b1a9-5543cf59fa2a",
   "metadata": {},
   "source": [
    "## Linear中的参数初始化，跟手工相比就是我们定义的w和b。\n",
    "- 当然他们的reguire_grad默认都是true的。\n",
    "-- net[0].weight.requires_grad\n",
    "-- net[0].bias.requires_grad\n"
   ]
  },
  {
   "cell_type": "code",
   "execution_count": 27,
   "id": "8020cd0f-fe78-4e5b-bdbc-faf108412c46",
   "metadata": {},
   "outputs": [
    {
     "data": {
      "text/plain": [
       "tensor([0.])"
      ]
     },
     "execution_count": 27,
     "metadata": {},
     "output_type": "execute_result"
    }
   ],
   "source": [
    "net[0].weight.data.normal_(0,0.01)\n",
    "net[0].bias.data.fill_(0)"
   ]
  },
  {
   "cell_type": "code",
   "execution_count": 32,
   "id": "4f4d685d-2e0c-4b27-9618-d569faf42440",
   "metadata": {},
   "outputs": [
    {
     "name": "stdout",
     "output_type": "stream",
     "text": [
      "True True\n"
     ]
    }
   ],
   "source": [
    "print(net[0].bias.requires_grad,net[0].weight.requires_grad)"
   ]
  },
  {
   "cell_type": "code",
   "execution_count": 17,
   "id": "188329c2-065d-45c8-a6e7-9610d34d2ca4",
   "metadata": {},
   "outputs": [],
   "source": [
    "loss = nn.MSELoss()"
   ]
  },
  {
   "cell_type": "markdown",
   "id": "fe5854c4-0df0-443d-890d-0ba270c38a2d",
   "metadata": {},
   "source": [
    "#### 优化器optimizer的名称叫的太高大上，更加接地气的叫法可以是：参数调整器"
   ]
  },
  {
   "cell_type": "code",
   "execution_count": 18,
   "id": "1ba2ce3d-43b8-487b-b52c-26cbc88355e3",
   "metadata": {},
   "outputs": [],
   "source": [
    "sgdOptim = torch.optim.SGD(net.parameters(),lr=0.03)"
   ]
  },
  {
   "cell_type": "code",
   "execution_count": 19,
   "id": "ba1583ef-2316-4c69-9595-d8835a646c53",
   "metadata": {},
   "outputs": [
    {
     "name": "stdout",
     "output_type": "stream",
     "text": [
      "epoch:1,loss: 0.000408\n",
      "epoch:2,loss: 0.000106\n",
      "epoch:3,loss: 0.000106\n",
      "epoch:4,loss: 0.000106\n",
      "epoch:5,loss: 0.000106\n"
     ]
    }
   ],
   "source": [
    "num_epochs = 5\n",
    "for epoch in range(num_epochs):\n",
    "    for X,y in data_iter:\n",
    "        l = loss(net(X),y)\n",
    "        sgdOptim.zero_grad()\n",
    "        l.backward()\n",
    "        sgdOptim.step()\n",
    "    l = loss(net(features),labels)\n",
    "    print(f'epoch:{epoch+1},loss: {l:f}')"
   ]
  }
 ],
 "metadata": {
  "kernelspec": {
   "display_name": "Python 3",
   "language": "python",
   "name": "python3"
  },
  "language_info": {
   "codemirror_mode": {
    "name": "ipython",
    "version": 3
   },
   "file_extension": ".py",
   "mimetype": "text/x-python",
   "name": "python",
   "nbconvert_exporter": "python",
   "pygments_lexer": "ipython3",
   "version": "3.8.3"
  }
 },
 "nbformat": 4,
 "nbformat_minor": 5
}
